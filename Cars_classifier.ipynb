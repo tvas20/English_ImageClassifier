{
 "cells": [
  {
   "cell_type": "code",
   "execution_count": 9,
   "id": "da550343",
   "metadata": {},
   "outputs": [],
   "source": [
    "#The cell under this one it's used to import some libraries that's used on the running code "
   ]
  },
  {
   "cell_type": "code",
   "execution_count": 10,
   "id": "c372d07d",
   "metadata": {},
   "outputs": [],
   "source": [
    "from fastbook import *\n",
    "from fastai.vision.widgets import *"
   ]
  },
  {
   "cell_type": "code",
   "execution_count": 11,
   "id": "babd0058",
   "metadata": {},
   "outputs": [],
   "source": [
    "#This cell below, is used to solve a path problem, just this way is possible to get the export.pkl file (WINDOWS ONLY)"
   ]
  },
  {
   "cell_type": "code",
   "execution_count": 12,
   "id": "d32a9f87",
   "metadata": {},
   "outputs": [],
   "source": [
    "#import pathlib\n",
    "#temp = pathlib.PosixPath\n",
    "#pathlib.PosixPath = pathlib.WindowsPath"
   ]
  },
  {
   "cell_type": "code",
   "execution_count": 13,
   "id": "a3c877bd",
   "metadata": {},
   "outputs": [],
   "source": [
    "#This cell is used to solve the cell path"
   ]
  },
  {
   "cell_type": "code",
   "execution_count": 14,
   "id": "890d0e1c",
   "metadata": {},
   "outputs": [
    {
     "data": {
      "text/plain": [
       "(#1) [Path('export.pkl')]"
      ]
     },
     "execution_count": 14,
     "metadata": {},
     "output_type": "execute_result"
    }
   ],
   "source": [
    "path = Path()\n",
    "path.ls(file_exts='.pkl')"
   ]
  },
  {
   "cell_type": "code",
   "execution_count": 15,
   "id": "313a4c2d",
   "metadata": {},
   "outputs": [],
   "source": [
    "#Here we have in the first line a importation of the core of the model, in a nutshell that is a file with model trained\n",
    "#The lines that followed  is used to create the GUI"
   ]
  },
  {
   "cell_type": "code",
   "execution_count": 16,
   "id": "713d1b09",
   "metadata": {},
   "outputs": [],
   "source": [
    "learn_inf = load_learner(path/'export.pkl', cpu=True)\n",
    "btn_upload = widgets.FileUpload()\n",
    "out_pl = widgets.Output()\n",
    "lbl_pred = widgets.Label()\n",
    "btn_run = widgets.Button(description='Classify')"
   ]
  },
  {
   "cell_type": "code",
   "execution_count": 17,
   "id": "29f444de",
   "metadata": {},
   "outputs": [],
   "source": [
    "#This code block, \n",
    "#basically is the configuration of what text is displayed to the user when it clicks on the button of the interface"
   ]
  },
  {
   "cell_type": "code",
   "execution_count": 18,
   "id": "05b28843",
   "metadata": {},
   "outputs": [],
   "source": [
    "def on_click_classify(change):\n",
    "    img = PILImage.create(btn_upload.data[-1])\n",
    "    out_pl.clear_output()\n",
    "    with out_pl: display(img.to_thumb(128,128))\n",
    "    pred,pred_idx,probs = learn_inf.predict(img)\n",
    "    lbl_pred.value = f'Prediction: {pred}; Probability: {probs[pred_idx]:.04f}'\n",
    "\n",
    "btn_run.on_click(on_click_classify)"
   ]
  },
  {
   "cell_type": "markdown",
   "id": "7e4fc03b",
   "metadata": {},
   "source": [
    "# Car's Classifier!"
   ]
  },
  {
   "cell_type": "markdown",
   "id": "832252fa",
   "metadata": {},
   "source": [
    "This classifier helps you out to discover if the image selected is a car of racing, SUV or a truck type.\n",
    "#### Enjoy it!"
   ]
  },
  {
   "cell_type": "code",
   "execution_count": 21,
   "id": "6fc56f04",
   "metadata": {},
   "outputs": [],
   "source": [
    "#And by the end we have the button's display"
   ]
  },
  {
   "cell_type": "code",
   "execution_count": 20,
   "id": "2aa37d3c",
   "metadata": {},
   "outputs": [
    {
     "data": {
      "application/vnd.jupyter.widget-view+json": {
       "model_id": "de96cf9a07e54edda835b342b1cd5e1f",
       "version_major": 2,
       "version_minor": 0
      },
      "text/plain": [
       "VBox(children=(Label(value='Select your car!'), FileUpload(value={}, description='Upload'), Button(description…"
      ]
     },
     "metadata": {},
     "output_type": "display_data"
    }
   ],
   "source": [
    "VBox([widgets.Label('Select your car!'), \n",
    "      btn_upload, btn_run, out_pl, lbl_pred])"
   ]
  }
 ],
 "metadata": {
  "kernelspec": {
   "display_name": "fastai",
   "language": "python",
   "name": "fastai"
  },
  "language_info": {
   "codemirror_mode": {
    "name": "ipython",
    "version": 3
   },
   "file_extension": ".py",
   "mimetype": "text/x-python",
   "name": "python",
   "nbconvert_exporter": "python",
   "pygments_lexer": "ipython3",
   "version": "3.7.13"
  }
 },
 "nbformat": 4,
 "nbformat_minor": 5
}
